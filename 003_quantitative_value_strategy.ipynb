{
 "cells": [
  {
   "cell_type": "code",
   "execution_count": null,
   "id": "3964b503",
   "metadata": {},
   "outputs": [],
   "source": [
    "import numpy as np\n",
    "import pandas as pd\n",
    "import xlsxwriter\n",
    "import requests\n",
    "from scipy import stats\n",
    "import math"
   ]
  },
  {
   "cell_type": "code",
   "execution_count": null,
   "id": "d004249e",
   "metadata": {},
   "outputs": [],
   "source": [
    "stocks = pd.read_csv('sp_500_stocks.csv')\n",
    "from secrets2 import IEX_CLOUD_API_TOKEN\n",
    "\n",
    "# stocks['Ticker']"
   ]
  },
  {
   "cell_type": "code",
   "execution_count": null,
   "id": "059b600a",
   "metadata": {},
   "outputs": [],
   "source": [
    "symbol = 'aapl'\n",
    "api_url = f'https://sandbox.iexapis.com/stable/stock/{symbol}/quote?token={IEX_CLOUD_API_TOKEN}'\n",
    "data = requests.get(api_url).json()\n",
    "print(data)\n",
    "\n",
    "# print(data.status_code)"
   ]
  },
  {
   "cell_type": "code",
   "execution_count": null,
   "id": "3123fa52",
   "metadata": {},
   "outputs": [],
   "source": [
    "price = data['latestPrice']\n",
    "pe_ratio = data['peRatio']"
   ]
  },
  {
   "cell_type": "code",
   "execution_count": null,
   "id": "3c45ecc4",
   "metadata": {},
   "outputs": [],
   "source": [
    "def chunks(lst, n):\n",
    "    \"\"\"Yield successive n-sized chunks from lst.\"\"\"\n",
    "    for i in range(0, len(lst), n):\n",
    "        l = yield lst[i:i + n]\n",
    "\n",
    "symbol_groups = list(chunks(stocks['Ticker'], 100))\n",
    "symbol_strings = []\n",
    "for i in range(0, len(symbol_groups)):\n",
    "    symbol_strings.append(','.join(symbol_groups[i]))\n",
    "#        print(symbol_strings[i])\n",
    "\n",
    "for symbol_string in symbol_strings:\n",
    "    print(symbol_string)\n",
    "    \n",
    "my_columns = ['Ticker', 'Price', 'Price-to-Earnings Ratio', 'Number of Shares to Buy']"
   ]
  },
  {
   "cell_type": "code",
   "execution_count": null,
   "id": "70dcbc8b",
   "metadata": {},
   "outputs": [],
   "source": [
    "final_dataframe = pd.DataFrame(columns = my_columns)\n",
    "\n",
    "for symbol_string in symbol_strings[:1]:\n",
    "    batch_api_call_url = f'https://sandbox.iexapis.com/stable/stock/market/batch?symbols={symbol_string}&types=quote&token={IEX_CLOUD_API_TOKEN}'\n",
    "    data = requests.get(batch_api_call_url).json()\n",
    "    for symbol in symbol_string.split(','):\n",
    "        final_dataframe = final_dataframe.append(\n",
    "        pd.Series(\n",
    "        [\n",
    "            symbol,     \n",
    "            data[symbol]['quote']['latestPrice'],  \n",
    "            data[symbol]['quote']['peRatio'],     \n",
    "            'N/A'\n",
    "        ],\n",
    "        index = my_columns\n",
    "        ),\n",
    "        ignore_index = True        \n",
    "        )\n",
    "        \n",
    "final_dataframe\n",
    "            \n",
    "#    print(symbol)\n",
    "#    print(data.status_code)"
   ]
  },
  {
   "cell_type": "code",
   "execution_count": null,
   "id": "867901b6",
   "metadata": {},
   "outputs": [],
   "source": [
    "final_dataframe.sort_values('Price-to-Earnings Ratio', ascending = True, inplace = True)\n",
    "final_dataframe = final_dataframe[final_dataframe['Price-to-Earnings Ratio'] > 0]\n",
    "final_dataframe = final_dataframe[:50]\n",
    "final_dataframe.reset_index(inplace = True)\n",
    "final_dataframe.drop('index', axis=1, inplace = True) \n",
    "\n",
    "# len(final_dataframe)"
   ]
  },
  {
   "cell_type": "code",
   "execution_count": null,
   "id": "1c2fa6e7",
   "metadata": {},
   "outputs": [],
   "source": [
    "final_dataframe"
   ]
  },
  {
   "cell_type": "code",
   "execution_count": null,
   "id": "d28856e3",
   "metadata": {},
   "outputs": [],
   "source": [
    "def portfolio_input():\n",
    "    global portfolio_size\n",
    "    portfolio_size = input(\"Enter the value of your portfolio: \")\n",
    "    while True:\n",
    "    \n",
    "        try:\n",
    "            val = float(portfolio_size)\n",
    "            return portfolio_size\n",
    "        except ValueError:\n",
    "            print(\"That's not a number! \\nTry again: \")\n",
    "            portfolio_size = input(\"Enter the value of your portfolio: \")\n",
    "            continue"
   ]
  },
  {
   "cell_type": "code",
   "execution_count": null,
   "id": "5d102285",
   "metadata": {},
   "outputs": [],
   "source": [
    "portfolio_input()"
   ]
  },
  {
   "cell_type": "code",
   "execution_count": null,
   "id": "a8bc00b6",
   "metadata": {},
   "outputs": [],
   "source": [
    "position_size = float(portfolio_size)/len(final_dataframe.index)\n",
    "for row in final_dataframe.index:\n",
    "    final_dataframe.loc[row, 'Number of Shares to Buy'] = math.floor(position_size/final_dataframe.loc[row, 'Price'])\n",
    "\n",
    "final_dataframe"
   ]
  },
  {
   "cell_type": "code",
   "execution_count": null,
   "id": "45f258f3",
   "metadata": {},
   "outputs": [],
   "source": [
    "symbol = 'AAPL'\n",
    "batch_api_call_url = f'https://sandbox.iexapis.com/stable/stock/market/batch?symbols={symbol}&types=quote,advanced-stats&token={IEX_CLOUD_API_TOKEN}'\n",
    "data = requests.get(batch_api_call_url).json()\n",
    "print(data['AAPL']['advanced-stats']['priceToBook'])\n",
    "\n",
    "#  Price-to-earnings ratio\n",
    "pe_ratio = data[symbol]['quote']['peRatio']\n",
    "\n",
    "# Price-to-book ratio\n",
    "pb_ratio = data['AAPL']['advanced-stats']['priceToBook']\n",
    "\n",
    "# Price-to-sales ratio\n",
    "ps_ratio = data['AAPL']['advanced-stats']['priceToSales']\n",
    "\n",
    "# Enterprise Value divided by Earnings Before Interest, Taxes, Deprecation, and Amortization (EV/EBITDA)\n",
    "enterprise_value = data['AAPL']['advanced-stats']['enterpriseValue']\n",
    "ebitda = data['AAPL']['advanced-stats']['EBITDA']\n",
    "ev_to_ebitda = enterprise_value/ebitda\n",
    "print(ev_to_ebitda)\n",
    "# print(interprise_value/1000000000000)\n",
    "\n",
    "# Enterprise Value divided by Gross Profit (EV/GP)\n",
    "gross_profit = data['AAPL']['advanced-stats']['grossProfit']\n",
    "ev_to_gross_profit = enterprise_value/gross_profit\n",
    "print(ev_to_gross_profit)"
   ]
  },
  {
   "cell_type": "code",
   "execution_count": null,
   "id": "4a4ad229",
   "metadata": {},
   "outputs": [],
   "source": [
    "rv_columns = [\n",
    "    'Ticker',\n",
    "    'Price',\n",
    "    'Number of Shares to Buy',\n",
    "    'Price-to-Earnings Ratio',\n",
    "    'PE Percentile',\n",
    "    'Price-to-Book Ratio',\n",
    "    'PB Percentile',\n",
    "    'Price-to-Sales Ratio',\n",
    "    'PS Percentile',\n",
    "    'EV/EBITDA',\n",
    "    'EV/EBITDA Percentile',\n",
    "    'EV/GP',\n",
    "    'EV/GP Percentile',\n",
    "    'RV Score'\n",
    "]\n",
    "\n",
    "rv_dataframe = pd.DataFrame(columns = rv_columns)\n",
    "\n",
    "for symbol_string in symbol_strings[:1]:\n",
    "    batch_api_call_url = f'https://sandbox.iexapis.com/stable/stock/market/batch?symbols={symbol_string}&types=quote,advanced-stats&token={IEX_CLOUD_API_TOKEN}'\n",
    "    data = requests.get(batch_api_call_url).json()\n",
    "    for symbol in symbol_string.split(','):\n",
    "        enterprise_value = data[symbol]['advanced-stats']['enterpriseValue']\n",
    "        ebitda = data[symbol]['advanced-stats']['EBITDA']\n",
    "        gross_profit = data[symbol]['advanced-stats']['grossProfit']\n",
    "        \n",
    "        try:\n",
    "            ev_to_ebitda = enterprise_value/ebitda\n",
    "        except TypeError:\n",
    "            ev_to_ebitda = np.NaN\n",
    "            \n",
    "        try:\n",
    "            ev_to_gross_profit = enterprise_value/gross_profit\n",
    "        except TypeError:\n",
    "            ev_to_gross_profit = np.NaN\n",
    "        \n",
    "        rv_dataframe = rv_dataframe.append(\n",
    "            pd.Series([\n",
    "                symbol,\n",
    "                data[symbol]['quote']['latestPrice'],\n",
    "                'N/A',\n",
    "                data[symbol]['quote']['peRatio'],\n",
    "                'N/A',\n",
    "                data[symbol]['advanced-stats']['priceToBook'],\n",
    "                'N/A',\n",
    "                data[symbol]['advanced-stats']['priceToSales'],\n",
    "                'N/A',\n",
    "                ev_to_ebitda,\n",
    "                'N/A',\n",
    "                ev_to_gross_profit,\n",
    "                'N/A',\n",
    "                'N/A'\n",
    "        ],\n",
    "        index = rv_columns\n",
    "        ),\n",
    "        ignore_index = True        \n",
    "        )\n",
    "        \n",
    "rv_dataframe"
   ]
  },
  {
   "cell_type": "code",
   "execution_count": null,
   "id": "c1b453f6",
   "metadata": {},
   "outputs": [],
   "source": [
    "rv_dataframe[rv_dataframe.isnull().any(axis=1)]"
   ]
  },
  {
   "cell_type": "code",
   "execution_count": null,
   "id": "94c263af",
   "metadata": {},
   "outputs": [],
   "source": [
    "for column in ['Price-to-Earnings Ratio', 'Price-to-Book Ratio', 'EV/EBITDA', 'EV/GP',]:\n",
    "    rv_dataframe[column].fillna(rv_dataframe[column].mean(), inplace = True)\n",
    "    \n",
    "# rv_dataframe.columns"
   ]
  },
  {
   "cell_type": "code",
   "execution_count": null,
   "id": "3907c1a7",
   "metadata": {},
   "outputs": [],
   "source": [
    "rv_dataframe[rv_dataframe.isnull().any(axis=1)]"
   ]
  },
  {
   "cell_type": "code",
   "execution_count": null,
   "id": "7d5e0d37",
   "metadata": {},
   "outputs": [],
   "source": [
    "from scipy.stats import percentileofscore as score\n",
    "\n",
    "metrics = {\n",
    "    'Price-to-Earnings Ratio': 'PE Percentile',\n",
    "    'Price-to-Book Ratio': 'PB Percentile',\n",
    "    'Price-to-Sales Ratio': 'PS Percentile',\n",
    "    'EV/EBITDA': 'EV/EBITDA Percentile',\n",
    "    'EV/GP': 'EV/GP Percentile' \n",
    "    }\n",
    "\n",
    "try:\n",
    "\n",
    "    for metric in metrics.keys():\n",
    "        for row in rv_dataframe.index:              \n",
    "            rv_dataframe.loc[row, metrics[metric]] = score(rv_dataframe[metric], rv_dataframe.loc[row, metric])\n",
    "        \n",
    "except TypeError:\n",
    "           \n",
    "    for metric in metrics.keys():\n",
    "        for row in rv_dataframe.index:              \n",
    "            rv_dataframe.loc[row, metrics] = score(rv_dataframe[metric], rv_dataframe.loc[row, metric])\n",
    "            rv_dataframe.loc[row, metrics[metric]] = score(rv_dataframe[metric], rv_dataframe.loc[row, metric])\n",
    "        \n",
    "    #for metric in metrics.keys():\n",
    "        #for row in rv_dataframe.index:              \n",
    "            #rv_dataframe.loc[row, metrics[metric]] = score(rv_dataframe[metric], rv_dataframe.loc[row, metric])\n",
    "        \n",
    "        # rv_dataframe.loc[row, metrics[metric]] = score(rv_dataframe[metric], rv_dataframe.loc[row, metric])\n",
    "        # stats.percentileofscore(rv_dataframe[metric], value_of_row_column)\n",
    "        \n",
    "rv_dataframe"
   ]
  },
  {
   "cell_type": "code",
   "execution_count": null,
   "id": "b3df10e7",
   "metadata": {},
   "outputs": [],
   "source": [
    "from statistics import mean\n",
    "# mean([5, 10])\n",
    "\n",
    "for row in rv_dataframe.index[:100]:\n",
    "    value_percentiles = [] \n",
    "    for metric in metrics.keys(): \n",
    "        value_percentiles.append(rv_dataframe.loc[row, metrics[metric]])\n",
    "    rv_dataframe.loc[row, 'RV Score'] = mean(value_percentiles)\n",
    "    \n",
    "# print(value_percentiles)\n",
    "\n",
    "rv_dataframe"
   ]
  },
  {
   "cell_type": "code",
   "execution_count": null,
   "id": "30d5a69b",
   "metadata": {},
   "outputs": [],
   "source": [
    "rv_dataframe.sort_values('RV Score', ascending = True, inplace = True)\n",
    "rv_dataframe = rv_dataframe[:50]\n",
    "rv_dataframe.reset_index(drop = True, inplace = True)\n",
    "len(rv_dataframe.index)"
   ]
  },
  {
   "cell_type": "code",
   "execution_count": null,
   "id": "add8eeb4",
   "metadata": {},
   "outputs": [],
   "source": [
    "portfolio_input()"
   ]
  },
  {
   "cell_type": "code",
   "execution_count": null,
   "id": "71a1ec20",
   "metadata": {},
   "outputs": [],
   "source": [
    "position_size = float(portfolio_size)/len(rv_dataframe.index)\n",
    "for row in rv_dataframe.index:\n",
    "    rv_dataframe.loc[row, 'Number of Shares to Buy'] = math.floor(position_size/rv_dataframe.loc[row, 'Number of Shares to Buy'])\n",
    "\n",
    "rv_dataframe"
   ]
  },
  {
   "cell_type": "code",
   "execution_count": null,
   "id": "0b5566bb",
   "metadata": {},
   "outputs": [],
   "source": [
    "writer = pd.ExcelWriter('value_strategy.xlsx', engine = 'xlsxwriter')\n",
    "rv_dataframe.to_excel(writer, sheet_name = 'Value Strategy', index = False)"
   ]
  },
  {
   "cell_type": "code",
   "execution_count": null,
   "id": "423a58ee",
   "metadata": {},
   "outputs": [],
   "source": [
    "background_color = '#0a0a23'\n",
    "font_color = '#ffffff'\n",
    "\n",
    "string_template = writer.book.add_format(\n",
    "    {\n",
    "        'font_color': font_color,\n",
    "        'bg_color': background_color,\n",
    "        'border': 1\n",
    "    }\n",
    ")\n",
    "dollar_template = writer.book.add_format(\n",
    "    {\n",
    "        'num_format': '$0.00',\n",
    "        'font_color': font_color,\n",
    "        'bg_color': background_color,\n",
    "        'border': 1\n",
    "    }\n",
    ")\n",
    "integer_template = writer.book.add_format(\n",
    "    {\n",
    "        'num_format': '0',\n",
    "        'font_color': font_color,\n",
    "        'bg_color': background_color,\n",
    "        'border': 1\n",
    "    }\n",
    ")\n",
    "float_template = writer.book.add_format(\n",
    "    {\n",
    "        'num_format': '0',\n",
    "        'font_color': font_color,\n",
    "        'bg_color': background_color,\n",
    "        'border': 1\n",
    "    }\n",
    ")\n",
    "percent_template = writer.book.add_format(\n",
    "    {\n",
    "        'num_format': '0.0%',\n",
    "        'font_color': font_color,\n",
    "        'bg_color': background_color,\n",
    "        'border': 1\n",
    "    }\n",
    ")"
   ]
  },
  {
   "cell_type": "code",
   "execution_count": null,
   "id": "512e920f",
   "metadata": {},
   "outputs": [],
   "source": [
    "column_formats = {\n",
    "                    'A': ['Ticker', string_template],\n",
    "                    'B': ['Price', dollar_template],\n",
    "                    'C': ['Number of Shares to Buy', integer_template],\n",
    "                    'D': ['Price-to-Earnings Ratio', float_template],\n",
    "                    'E': ['PE Percentile', percent_template],\n",
    "                    'F': ['Price-to-Book Ratio', float_template],\n",
    "                    'G': ['PB Percentile', percent_template],\n",
    "                    'H': ['Price-to-Sales Ratio', float_template],\n",
    "                    'I': ['PS Percentile', percent_template],\n",
    "                    'J': ['EV/EBITDA', float_template],\n",
    "                    'K': ['EV/EBITDA Percentile', percent_template],\n",
    "                    'L': ['EV/GP', float_template],\n",
    "                    'M': ['EV/GP Percentile', percent_template], \n",
    "                    'N': ['RV Score', percent_template]   \n",
    "                }\n",
    "\n",
    "for column in column_formats.keys():\n",
    "    writer.sheets['Value Strategy'].set_column(f'{column}:{column}', 25, column_formats[column][1])\n",
    "    writer.sheets['Value Strategy'].write(f'{column}1', column_formats[column][0], column_formats[column][1])"
   ]
  },
  {
   "cell_type": "code",
   "execution_count": null,
   "id": "560441b3",
   "metadata": {},
   "outputs": [],
   "source": [
    "writer_save()"
   ]
  },
  {
   "cell_type": "code",
   "execution_count": null,
   "id": "10a9ad9c",
   "metadata": {},
   "outputs": [],
   "source": [
    "rv_dataframe.loc[row, metrics]"
   ]
  },
  {
   "cell_type": "code",
   "execution_count": null,
   "id": "1ae8d2f1",
   "metadata": {},
   "outputs": [],
   "source": []
  },
  {
   "cell_type": "code",
   "execution_count": null,
   "id": "d658c8f7",
   "metadata": {},
   "outputs": [],
   "source": []
  }
 ],
 "metadata": {
  "kernelspec": {
   "display_name": "Python 3 (ipykernel)",
   "language": "python",
   "name": "python3"
  },
  "language_info": {
   "codemirror_mode": {
    "name": "ipython",
    "version": 3
   },
   "file_extension": ".py",
   "mimetype": "text/x-python",
   "name": "python",
   "nbconvert_exporter": "python",
   "pygments_lexer": "ipython3",
   "version": "3.10.4"
  }
 },
 "nbformat": 4,
 "nbformat_minor": 5
}
